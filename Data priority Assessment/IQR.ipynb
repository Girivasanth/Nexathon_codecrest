{
  "nbformat": 4,
  "nbformat_minor": 0,
  "metadata": {
    "colab": {
      "provenance": []
    },
    "kernelspec": {
      "name": "python3",
      "display_name": "Python 3"
    },
    "language_info": {
      "name": "python"
    }
  },
  "cells": [
    {
      "cell_type": "code",
      "execution_count": 19,
      "metadata": {
        "colab": {
          "base_uri": "https://localhost:8080/"
        },
        "id": "nCuRNYfbVf8e",
        "outputId": "7baf388c-0393-43e7-b179-33bae7723112"
      },
      "outputs": [
        {
          "output_type": "stream",
          "name": "stdout",
          "text": [
            "Model Accuracy: 0.00\n"
          ]
        },
        {
          "output_type": "execute_result",
          "data": {
            "text/plain": [
              "['student_priority_model.pkl']"
            ]
          },
          "metadata": {},
          "execution_count": 19
        }
      ],
      "source": [
        "import numpy as np\n",
        "import pandas as pd\n",
        "from sklearn.model_selection import train_test_split\n",
        "from sklearn.tree import DecisionTreeClassifier\n",
        "from sklearn.metrics import accuracy_score\n",
        "import joblib\n",
        "\n",
        "\n",
        "df = pd.read_csv(\"mark_list.csv\")\n",
        "\n",
        "\n",
        "subject_columns = df.columns[1:]\n",
        "def calculate_iqr(marks):\n",
        "    q1 = np.percentile(marks, 25)\n",
        "    q3 = np.percentile(marks, 75)\n",
        "    return q3 - q1\n",
        "\n",
        "\n",
        "df[\"IQR\"] = df[subject_columns].apply(lambda row: calculate_iqr(row.values), axis=1)\n",
        "\n",
        "\n",
        "def label_priority(iqr):\n",
        "    if iqr > 25:\n",
        "        return \"High\"\n",
        "    elif 10 <= iqr <= 20:\n",
        "        return \"Medium\"\n",
        "    else:\n",
        "        return \"Low\"\n",
        "\n",
        "df[\"Priority\"] = df[\"IQR\"].apply(label_priority)\n",
        "\n",
        "\n",
        "priority_mapping = {\"Low\": 0, \"Medium\": 1, \"High\": 2}\n",
        "df[\"Priority\"] = df[\"Priority\"].map(priority_mapping)\n",
        "\n",
        "\n",
        "X = df[[\"IQR\"]]\n",
        "y = df[\"Priority\"]\n",
        "\n",
        "X_train, X_test, y_train, y_test = train_test_split(X, y, test_size=0.2, random_state=42)\n",
        "\n",
        "\n",
        "model = DecisionTreeClassifier()\n",
        "model.fit(X_train, y_train)\n",
        "\n",
        "\n",
        "y_pred = model.predict(X_test)\n",
        "accuracy = accuracy_score(y_test, y_pred)\n",
        "print(f\"Model Accuracy: {accuracy:.2f}\")\n",
        "\n",
        "\n",
        "joblib.dump(model, \"student_priority_model.pkl\")\n"
      ]
    },
    {
      "cell_type": "code",
      "source": [
        "import numpy as np\n",
        "import pandas as pd\n",
        "from sklearn.model_selection import train_test_split\n",
        "from sklearn.tree import DecisionTreeClassifier\n",
        "from sklearn.metrics import accuracy_score\n",
        "import joblib\n",
        "\n",
        "df = pd.read_csv(\"mark_list.csv\")\n",
        "\n",
        "subject_columns = df.columns[1:]\n",
        "\n",
        "\n",
        "def calculate_iqr(marks):\n",
        "    q1 = np.percentile(marks, 25)\n",
        "    q3 = np.percentile(marks, 75)\n",
        "    return q3 - q1\n",
        "\n",
        "df[\"IQR\"] = df[subject_columns].apply(lambda row: calculate_iqr(row.values), axis=1)\n",
        "\n",
        "PASS_MARK = 40\n",
        "\n",
        "df[\"Failed_Subjects\"] = df[subject_columns].apply(lambda row: (row < PASS_MARK).sum(), axis=1)\n",
        "\n",
        "def label_priority(row):\n",
        "    if row[\"Failed_Subjects\"] > 0:\n",
        "        return \"High\"\n",
        "    elif row[\"IQR\"] > 25:\n",
        "        return \"High\"\n",
        "    elif 10 <= row[\"IQR\"] <= 20:\n",
        "        return \"Medium\"\n",
        "    else:\n",
        "        return \"Low\"\n",
        "\n",
        "df[\"Priority\"] = df.apply(label_priority, axis=1)\n",
        "\n",
        "# Map priority to numeric values\n",
        "priority_mapping = {\"Low\": 0, \"Medium\": 1, \"High\": 2}\n",
        "df[\"Priority\"] = df[\"Priority\"].map(priority_mapping)\n",
        "\n",
        "X = df[[\"IQR\", \"Failed_Subjects\"]]  # Include failed subjects in training\n",
        "y = df[\"Priority\"]\n",
        "\n",
        "X_train, X_test, y_train, y_test = train_test_split(X, y, test_size=0.2, random_state=42)\n",
        "\n",
        "model = DecisionTreeClassifier()\n",
        "model.fit(X_train, y_train)\n",
        "\n",
        "y_pred = model.predict(X_test)\n",
        "accuracy = accuracy_score(y_test, y_pred)\n",
        "print(f\"Model Accuracy: {accuracy:.2f}\")\n",
        "\n",
        "joblib.dump(model, \"student_priority_model.pkl\")\n"
      ],
      "metadata": {
        "colab": {
          "base_uri": "https://localhost:8080/"
        },
        "id": "197wktPU3NsP",
        "outputId": "c54ad959-07ed-481c-be04-b40c8e6df0df"
      },
      "execution_count": 21,
      "outputs": [
        {
          "output_type": "stream",
          "name": "stdout",
          "text": [
            "Model Accuracy: 1.00\n"
          ]
        },
        {
          "output_type": "execute_result",
          "data": {
            "text/plain": [
              "['student_priority_model.pkl']"
            ]
          },
          "metadata": {},
          "execution_count": 21
        }
      ]
    }
  ]
}