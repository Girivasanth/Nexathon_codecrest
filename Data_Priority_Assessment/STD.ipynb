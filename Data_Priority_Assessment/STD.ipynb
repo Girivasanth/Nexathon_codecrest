{
  "nbformat": 4,
  "nbformat_minor": 0,
  "metadata": {
    "colab": {
      "provenance": []
    },
    "kernelspec": {
      "name": "python3",
      "display_name": "Python 3"
    },
    "language_info": {
      "name": "python"
    }
  },
  "cells": [
    {
      "cell_type": "code",
      "source": [
        "import pandas as pd\n",
        "import numpy as np\n",
        "import joblib\n",
        "from sklearn.model_selection import train_test_split\n",
        "from sklearn.tree import DecisionTreeClassifier\n",
        "from sklearn.metrics import accuracy_score\n",
        "\n",
        "\n",
        "df = pd.read_csv(\"mark_list.csv\")\n",
        "\n",
        "df[\"Mean\"] = df.iloc[:, 1:].mean(axis=1)\n",
        "df[\"StdDev\"] = df.iloc[:, 1:].std(axis=1)\n",
        "\n",
        "\n",
        "df[\"Attention\"] = df.apply(lambda row: 1 if row[\"Mean\"] < 45 or row[\"StdDev\"] > 20 else 0, axis=1)\n",
        "\n",
        "# Prepare dataset for ML\n",
        "X = df[[\"Mean\", \"StdDev\"]]\n",
        "y = df[\"Attention\"]\n",
        "\n",
        "# Split into Training & Test Sets\n",
        "X_train, X_test, y_train, y_test = train_test_split(X, y, test_size=0.2, random_state=42)\n",
        "\n",
        "# Train Decision Tree Model\n",
        "model = DecisionTreeClassifier()\n",
        "model.fit(X_train, y_train)\n",
        "\n",
        "# Save the Model\n",
        "joblib.dump(model, \"student_priority_sd_model.pkl\")\n",
        "\n",
        "# Model Accuracy\n",
        "y_pred = model.predict(X_test)\n",
        "accuracy = accuracy_score(y_test, y_pred)\n",
        "print(f\"Model Accuracy: {accuracy:.2f}\")\n",
        "print(\"Model saved as student_priority_sd_model.pkl\")\n"
      ],
      "metadata": {
        "colab": {
          "base_uri": "https://localhost:8080/"
        },
        "id": "GjsZ0dyzx331",
        "outputId": "72a0bd56-6f43-4b34-f5d5-a0c429f41b4f"
      },
      "execution_count": 13,
      "outputs": [
        {
          "output_type": "stream",
          "name": "stdout",
          "text": [
            "Model Accuracy: 1.00\n",
            "Model saved as student_priority_sd_model.pkl\n"
          ]
        }
      ]
    }
  ]
}